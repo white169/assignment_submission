{
 "cells": [
  {
   "cell_type": "markdown",
   "metadata": {},
   "source": [
    "Assigmnent 10\n",
    "\n",
    "Create a border round any choosen image, make sure the border is 10% of the image shape.\n",
    "Surprise me with any color.\n",
    "At the center of the image create a yellow square of 20% minimum of the image shape.\n",
    "Create a gray image from question 1image and draw a square (10%) of white at four corners of the image.\n",
    "Make sure you save the two resulting images."
   ]
  },
  {
   "cell_type": "code",
   "execution_count": 29,
   "metadata": {},
   "outputs": [
    {
     "name": "stdout",
     "output_type": "stream",
     "text": [
      "dimension (height, width):  (413, 620, 3)\n",
      "size (height * width):  768180\n",
      "data type:  uint8\n",
      "OpenCV(4.5.4-dev) D:\\a\\opencv-python\\opencv-python\\opencv\\modules\\imgcodecs\\src\\loadsave.cpp:728: error: (-2:Unspecified error) could not find a writer for the specified extension in function 'cv::imwrite_'\n",
      "\n"
     ]
    }
   ],
   "source": [
    "import cv2 as cv\n",
    "\n",
    "try:\n",
    "    filePath = r'C:\\Users\\user\\Desktop\\cv-master\\essential\\assets\\utm.jpg'\n",
    "\n",
    "    img = cv.imread(filePath)\n",
    "\n",
    "    print('dimension (height, width): ', img.shape)\n",
    "    print('size (height * width): ', img.size)\n",
    "    print('data type: ', img.dtype)\n",
    "\n",
    "    imgWithBorder = img.copy()\n",
    "\n",
    "    # top border\n",
    "    imgWithBorder[:10,-1] = [100,190,90]\n",
    "    \n",
    "    # bottom border\n",
    "    imgWithBorder[-10:,:] = [255,0,255]\n",
    "\n",
    "    # left border\n",
    "    imgWithBorder[:,:10] = [200,190,10]\n",
    "\n",
    "    # right border\n",
    "    imgWithBorder[:,-10:] = [80,255,255]\n",
    "    cv.imshow('utm', imgWithBorder)\n",
    "    cv.waitKey(0)\n",
    "    \n",
    "    cv.imwrite(\"utm_color_border\", imgWithBorder)\n",
    "    \n",
    "except Exception as ex:\n",
    "    print(ex)\n",
    "\n",
    "finally:\n",
    "    cv.destroyAllWindows()"
   ]
  },
  {
   "cell_type": "code",
   "execution_count": 17,
   "metadata": {},
   "outputs": [
    {
     "name": "stdout",
     "output_type": "stream",
     "text": [
      "dimension (height, width):  (413, 620, 3)\n",
      "size (height * width):  768180\n",
      "data type:  uint8\n"
     ]
    }
   ],
   "source": [
    "#At the center of the image create a yellow square of 20% minimum of the image shape.\n",
    "\n",
    "import cv2 as cv\n",
    "\n",
    "try:\n",
    "    filePath = r'C:\\Users\\user\\Desktop\\cv-master\\essential\\assets\\utm.jpg'\n",
    "\n",
    "    img = cv.imread(filePath)\n",
    "\n",
    "    print('dimension (height, width): ', img.shape)\n",
    "    print('size (height * width): ', img.size)\n",
    "    print('data type: ', img.dtype)\n",
    "\n",
    "    imgWithCenter = img.copy()\n",
    "    \n",
    "    imgWithCenter[100:300,210:410] = [0, 255, 255]\n",
    "    cv.imshow('utm', imgWithCenter)\n",
    "    \n",
    "    cv.imwrite(\"utm_yellow_center.h\", imgWithCenter)\n",
    "        \n",
    "    cv.waitKey(0)\n",
    "    \n",
    "except Exception as ex:\n",
    "    print(ex)\n",
    "\n",
    "finally:\n",
    "    cv.destroyAllWindows()"
   ]
  },
  {
   "cell_type": "code",
   "execution_count": 28,
   "metadata": {},
   "outputs": [
    {
     "name": "stdout",
     "output_type": "stream",
     "text": [
      "dimension (height, width):  (413, 620)\n",
      "size (height * width):  256060\n",
      "data type:  uint8\n",
      "OpenCV(4.5.4-dev) D:\\a\\opencv-python\\opencv-python\\opencv\\modules\\imgcodecs\\src\\loadsave.cpp:728: error: (-2:Unspecified error) could not find a writer for the specified extension in function 'cv::imwrite_'\n",
      "\n"
     ]
    }
   ],
   "source": [
    "# Create a gray image from question 1image and draw a square (10%) of white at four corners of the image.\n",
    "\n",
    "import cv2 as cv\n",
    "\n",
    "try:\n",
    "    filePath = r'C:\\Users\\user\\Desktop\\cv-master\\essential\\assets\\utm.jpg'\n",
    "\n",
    "    img = cv.imread(filePath,cv.IMREAD_GRAYSCALE)\n",
    "\n",
    "    print('dimension (height, width): ', img.shape)\n",
    "    print('size (height * width): ', img.size)\n",
    "    print('data type: ', img.dtype)\n",
    "\n",
    "    imgWithGray = img.copy()\n",
    "\n",
    "    # top border\n",
    "    imgWithGray[:10,:] = [255]\n",
    "    \n",
    "    # bottom border\n",
    "    imgWithGray[-10:,:] = [255]\n",
    "\n",
    "    # left border\n",
    "    imgWithGray[:,:10] = [255]\n",
    "\n",
    "    # right border\n",
    "    imgWithGray[:,-10:] = [255]\n",
    "    \n",
    "    cv.imshow('utm', imgWithGray)\n",
    "    \n",
    "    cv.waitKey(0)\n",
    "    \n",
    "    cv.imwrite(\"utm_gray_whiteborder.jpg\", imgWithGray)\n",
    "   \n",
    "    \n",
    "except Exception as ex:\n",
    "    print(ex)\n",
    "\n",
    "finally:\n",
    "    cv.destroyAllWindows()"
   ]
  }
 ],
 "metadata": {
  "kernelspec": {
   "display_name": "Python 3",
   "language": "python",
   "name": "python3"
  },
  "language_info": {
   "codemirror_mode": {
    "name": "ipython",
    "version": 3
   },
   "file_extension": ".py",
   "mimetype": "text/x-python",
   "name": "python",
   "nbconvert_exporter": "python",
   "pygments_lexer": "ipython3",
   "version": "3.7.3"
  }
 },
 "nbformat": 4,
 "nbformat_minor": 2
}
