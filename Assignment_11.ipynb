{
 "cells": [
  {
   "cell_type": "markdown",
   "metadata": {},
   "source": [
    "Assignment\n",
    "Create a video and attach border of diffrent colour.\n",
    "Save the video\n",
    "Create a video player that can play any video file passed to it from any command line"
   ]
  },
  {
   "cell_type": "code",
   "execution_count": 3,
   "metadata": {},
   "outputs": [
    {
     "name": "stdout",
     "output_type": "stream",
     "text": [
      "CV_CAP_PROP_FRAME_WIDTH: 640.0\n",
      "CV_CAP_PROP_FRAME_HEIGHT : 480.0\n",
      "CAP_PROP_FPS : 30.0\n"
     ]
    }
   ],
   "source": [
    "import cv2 as cv\n",
    "\n",
    "\n",
    "capture = cv.VideoCapture(0)\n",
    "# check if connected\n",
    "if capture.isOpened() is False:\n",
    "    print(\"Error opening camera 0\")\n",
    "    exit()\n",
    "    \n",
    "frame_width = capture.get(cv.CAP_PROP_FRAME_WIDTH)\n",
    "frame_height = capture.get(cv.CAP_PROP_FRAME_HEIGHT)\n",
    "fps = capture.get(cv.CAP_PROP_FPS)\n",
    "\n",
    "print(f\"CV_CAP_PROP_FRAME_WIDTH: {frame_width}\")\n",
    "print(f\"CV_CAP_PROP_FRAME_HEIGHT : {frame_height}\")\n",
    "print(f\"CAP_PROP_FPS : {fps}\")\n",
    "\n",
    "# Define the codec and create VideoWriter object\n",
    "fourcc = cv.VideoWriter_fourcc(*'XVID')\n",
    "video_out = cv.VideoWriter('output_border.avi', fourcc, 20.0, (640,  480))\n",
    "\n",
    "while capture.isOpened():\n",
    "    # capture frames, if read correctly ret is True\n",
    "    ret, frame = capture.read()\n",
    "\n",
    "    if not ret:\n",
    "        print(\"Didn't receive frame. Stop \")\n",
    "        break\n",
    "\n",
    "    # write the flipped frame\n",
    "    video_out.write(frame)\n",
    "\n",
    "\n",
    "    # top border\n",
    "    frame[:10,:] = [100,190,90]\n",
    "    # bottom border\n",
    "    frame[-10:,:] = [255,0,255]\n",
    "    # left border\n",
    "    frame[:,:10] = [200,190,10]\n",
    "    # right border\n",
    "    frame[:,-10:] = [80,255,255]\n",
    "    \n",
    "     # display frame\n",
    "    cv.imshow(\"Camera frame\", frame)\n",
    "\n",
    "    k = cv.waitKey(1) \n",
    "    # check if key is q then exit\n",
    "    if k == ord(\"q\"):\n",
    "        break\n",
    "\n",
    "capture.release()\n",
    "video_out.release()\n",
    "cv.destroyAllWindows()"
   ]
  }
 ],
 "metadata": {
  "kernelspec": {
   "display_name": "Python 3",
   "language": "python",
   "name": "python3"
  },
  "language_info": {
   "codemirror_mode": {
    "name": "ipython",
    "version": 3
   },
   "file_extension": ".py",
   "mimetype": "text/x-python",
   "name": "python",
   "nbconvert_exporter": "python",
   "pygments_lexer": "ipython3",
   "version": "3.7.3"
  }
 },
 "nbformat": 4,
 "nbformat_minor": 2
}
