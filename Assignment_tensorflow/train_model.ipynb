{
 "cells": [
  {
   "cell_type": "code",
   "execution_count": 3,
   "id": "39c6cdb6",
   "metadata": {},
   "outputs": [
    {
     "name": "stdout",
     "output_type": "stream",
     "text": [
      "2.7.0\n"
     ]
    }
   ],
   "source": [
    "import tensorflow as tf \n",
    "print(tf.__version__)"
   ]
  },
  {
   "cell_type": "code",
   "execution_count": 4,
   "id": "15e17cea",
   "metadata": {},
   "outputs": [
    {
     "name": "stdout",
     "output_type": "stream",
     "text": [
      "3.5.0\n"
     ]
    }
   ],
   "source": [
    "import matplotlib\n",
    "print(matplotlib.__version__)"
   ]
  },
  {
   "cell_type": "code",
   "execution_count": 5,
   "id": "88093bf9",
   "metadata": {
    "scrolled": true
   },
   "outputs": [],
   "source": [
    "import numpy as np \n",
    "from sklearn.model_selection import train_test_split\n",
    "import matplotlib.pyplot as plt"
   ]
  },
  {
   "cell_type": "code",
   "execution_count": 6,
   "id": "b347412a",
   "metadata": {},
   "outputs": [
    {
     "name": "stdout",
     "output_type": "stream",
     "text": [
      "2.7.0\n",
      "(36,)\n",
      "[0 1 2 3 4 5 6 7 8 1 2 4 6 7 8 1 2 3 4 5 6 7 0 1 4 5 6 7 8 0 1 4 5 6 7 8]\n",
      "['afiq' 'azureen' 'gavin' 'goke' 'inamul' 'jincheng' 'mahmuda' 'numan'\n",
      " 'saseendran' 'azureen' 'gavin' 'inamul' 'mahmuda' 'numan' 'saseendran'\n",
      " 'azureen' 'gavin' 'goke' 'inamul' 'jincheng' 'mahmuda' 'numan' 'afiq'\n",
      " 'azureen' 'inamul' 'jincheng' 'mahmuda' 'numan' 'saseendran' 'afiq'\n",
      " 'azureen' 'inamul' 'jincheng' 'mahmuda' 'numan' 'saseendran']\n"
     ]
    }
   ],
   "source": [
    "datasetFileName = \"numandataset.npz\"\n",
    "with np.load(datasetFileName, allow_pickle=True) as data:\n",
    "    dataImages = data['images']\n",
    "    dataLabels = data['labels']\n",
    "    dataLabelNames = data['labelnames']\n",
    "    \n",
    "print(tf.__version__)\n",
    "print(dataImages.shape)\n",
    "print(dataLabels)\n",
    "print(dataLabelNames)"
   ]
  },
  {
   "cell_type": "code",
   "execution_count": 7,
   "id": "a7e0aa81",
   "metadata": {},
   "outputs": [
    {
     "name": "stdout",
     "output_type": "stream",
     "text": [
      "['afiq', 'azureen', 'gavin', 'goke', 'inamul', 'jincheng', 'mahmuda', 'numan', 'saseendran']\n"
     ]
    }
   ],
   "source": [
    "classNames = sorted(np.unique(dataLabelNames))\n",
    "print(classNames)\n",
    "\n"
   ]
  },
  {
   "cell_type": "code",
   "execution_count": 8,
   "id": "62a33499",
   "metadata": {},
   "outputs": [
    {
     "name": "stdout",
     "output_type": "stream",
     "text": [
      "(25, 200, 200, 3)\n",
      "(11, 200, 200, 3)\n"
     ]
    }
   ],
   "source": [
    "import cv2 as cv\n",
    "\n",
    "N = len(dataImages)\n",
    "shape = (N, 200,200,3)\n",
    "\n",
    "y = np.empty(shape, dtype='uint8')\n",
    "\n",
    "for i in range(N):\n",
    "    y[i] = cv.resize(dataImages[i], [200,200], interpolation=cv.INTER_NEAREST)\n",
    "    \n",
    "dataImages.dtype, y.dtype, y.shape\n",
    "\n",
    "dataImages = y\n",
    "\n",
    "trainImages, testImages, trainLabels, testLabels = train_test_split(dataImages, dataLabels, test_size=0.30, random_state=42)\n",
    "print(trainImages.shape)\n",
    "print(testImages.shape)"
   ]
  },
  {
   "cell_type": "code",
   "execution_count": 9,
   "id": "21baf4b1",
   "metadata": {},
   "outputs": [
    {
     "name": "stdout",
     "output_type": "stream",
     "text": [
      "(200, 200, 3)\n",
      "(200, 200, 3)\n"
     ]
    }
   ],
   "source": [
    "import numpy as np\n",
    "\n",
    "print(trainImages[0].shape)\n",
    "print(trainImages[1].shape)"
   ]
  },
  {
   "cell_type": "code",
   "execution_count": 10,
   "id": "7dfe1032",
   "metadata": {},
   "outputs": [],
   "source": [
    "for i in range(len(trainImages)):\n",
    "    trainImages[i] = cv.resize(trainImages[i], (200,200), interpolation=cv.INTER_NEAREST)\n",
    "\n"
   ]
  },
  {
   "cell_type": "code",
   "execution_count": 11,
   "id": "40839e97",
   "metadata": {},
   "outputs": [
    {
     "data": {
      "text/plain": [
       "((200, 200, 3), 9)"
      ]
     },
     "execution_count": 11,
     "metadata": {},
     "output_type": "execute_result"
    }
   ],
   "source": [
    "inputShape = trainImages[0].shape\n",
    "outputShape = len(classNames)\n",
    "\n",
    "inputShape, outputShape"
   ]
  },
  {
   "cell_type": "code",
   "execution_count": 12,
   "id": "24465570",
   "metadata": {},
   "outputs": [
    {
     "name": "stdout",
     "output_type": "stream",
     "text": [
      "Model: \"sequential\"\n",
      "_________________________________________________________________\n",
      " Layer (type)                Output Shape              Param #   \n",
      "=================================================================\n",
      " flatten (Flatten)           (None, 120000)            0         \n",
      "                                                                 \n",
      " dense (Dense)               (None, 128)               15360128  \n",
      "                                                                 \n",
      " dense_1 (Dense)             (None, 128)               16512     \n",
      "                                                                 \n",
      " dense_2 (Dense)             (None, 128)               16512     \n",
      "                                                                 \n",
      " dense_3 (Dense)             (None, 9)                 1161      \n",
      "                                                                 \n",
      "=================================================================\n",
      "Total params: 15,394,313\n",
      "Trainable params: 15,394,313\n",
      "Non-trainable params: 0\n",
      "_________________________________________________________________\n"
     ]
    }
   ],
   "source": [
    "model = tf.keras.Sequential([\n",
    "    tf.keras.layers.Flatten(input_shape = inputShape),\n",
    "    tf.keras.layers.Dense(128, activation='relu'),\n",
    "    tf.keras.layers.Dense(128, activation='relu'),\n",
    "    tf.keras.layers.Dense(128, activation='relu'),\n",
    "    tf.keras.layers.Dense(outputShape)\n",
    "\n",
    "])\n",
    "model.summary()"
   ]
  },
  {
   "cell_type": "code",
   "execution_count": 13,
   "id": "6e6fa711",
   "metadata": {},
   "outputs": [],
   "source": [
    "model.compile(optimizer='adam', loss= tf.keras.losses.SparseCategoricalCrossentropy(from_logits=True), metrics=['accuracy'])"
   ]
  },
  {
   "cell_type": "code",
   "execution_count": 14,
   "id": "502f271e",
   "metadata": {},
   "outputs": [
    {
     "name": "stdout",
     "output_type": "stream",
     "text": [
      "Epoch 1/20\n",
      "1/1 [==============================] - 3s 3s/step - loss: 134.4619 - accuracy: 0.2000\n",
      "Epoch 2/20\n",
      "1/1 [==============================] - 0s 310ms/step - loss: 3055.6897 - accuracy: 0.0800\n",
      "Epoch 3/20\n",
      "1/1 [==============================] - 0s 216ms/step - loss: 5103.6108 - accuracy: 0.2400\n",
      "Epoch 4/20\n",
      "1/1 [==============================] - 0s 250ms/step - loss: 4492.7837 - accuracy: 0.1600\n",
      "Epoch 5/20\n",
      "1/1 [==============================] - 0s 294ms/step - loss: 4255.1426 - accuracy: 0.1200\n",
      "Epoch 6/20\n",
      "1/1 [==============================] - 0s 247ms/step - loss: 3508.2373 - accuracy: 0.2000\n",
      "Epoch 7/20\n",
      "1/1 [==============================] - 0s 237ms/step - loss: 2034.5437 - accuracy: 0.2800\n",
      "Epoch 8/20\n",
      "1/1 [==============================] - 0s 279ms/step - loss: 2793.7100 - accuracy: 0.1200\n",
      "Epoch 9/20\n",
      "1/1 [==============================] - 0s 242ms/step - loss: 1637.2837 - accuracy: 0.2400\n",
      "Epoch 10/20\n",
      "1/1 [==============================] - 0s 310ms/step - loss: 1980.6077 - accuracy: 0.2800\n",
      "Epoch 11/20\n",
      "1/1 [==============================] - 0s 436ms/step - loss: 1410.9692 - accuracy: 0.3600\n",
      "Epoch 12/20\n",
      "1/1 [==============================] - 0s 248ms/step - loss: 1233.4510 - accuracy: 0.3200\n",
      "Epoch 13/20\n",
      "1/1 [==============================] - 0s 260ms/step - loss: 914.4277 - accuracy: 0.4400\n",
      "Epoch 14/20\n",
      "1/1 [==============================] - 0s 251ms/step - loss: 637.0969 - accuracy: 0.6000\n",
      "Epoch 15/20\n",
      "1/1 [==============================] - 0s 247ms/step - loss: 454.4411 - accuracy: 0.5200\n",
      "Epoch 16/20\n",
      "1/1 [==============================] - 0s 273ms/step - loss: 385.2831 - accuracy: 0.5200\n",
      "Epoch 17/20\n",
      "1/1 [==============================] - 0s 235ms/step - loss: 374.5098 - accuracy: 0.6800\n",
      "Epoch 18/20\n",
      "1/1 [==============================] - 0s 196ms/step - loss: 307.1260 - accuracy: 0.6800\n",
      "Epoch 19/20\n",
      "1/1 [==============================] - 0s 265ms/step - loss: 61.3036 - accuracy: 0.7600\n",
      "Epoch 20/20\n",
      "1/1 [==============================] - 0s 210ms/step - loss: 94.5240 - accuracy: 0.8000\n"
     ]
    },
    {
     "data": {
      "text/plain": [
       "<keras.callbacks.History at 0x25e63596d30>"
      ]
     },
     "execution_count": 14,
     "metadata": {},
     "output_type": "execute_result"
    }
   ],
   "source": [
    "model.fit(trainImages, trainLabels, epochs=20)"
   ]
  },
  {
   "cell_type": "code",
   "execution_count": 21,
   "id": "fadfed0e",
   "metadata": {},
   "outputs": [
    {
     "name": "stdout",
     "output_type": "stream",
     "text": [
      "1/1 - 0s - loss: 1742.8153 - accuracy: 0.4545 - 260ms/epoch - 260ms/step\n",
      "\n",
      "Test accuracy: 0.4545454680919647\n"
     ]
    },
    {
     "data": {
      "text/plain": [
       "array([  4800.4185,   2985.057 , -13125.918 ,   6043.956 ,  -1863.7476,\n",
       "        -3312.5935,   2944.5718,   4752.2627,   7945.532 ], dtype=float32)"
      ]
     },
     "execution_count": 21,
     "metadata": {},
     "output_type": "execute_result"
    }
   ],
   "source": [
    "testLoss, testAcc = model.evaluate(testImages, testLabels, verbose=2)\n",
    "\n",
    "print('\\nTest accuracy:', testAcc)\n",
    "\n",
    "predictions = model.predict(testImages)\n",
    "predictions[0]"
   ]
  },
  {
   "cell_type": "code",
   "execution_count": 24,
   "id": "53466186",
   "metadata": {},
   "outputs": [],
   "source": [
    "def plot_image(i, predictions_array, true_label, img):\n",
    "  true_label, img = true_label[i], img[i]\n",
    "  plt.grid(False)\n",
    "  plt.xticks([])\n",
    "  plt.yticks([])\n",
    "\n",
    "  plt.imshow(img, cmap=plt.cm.binary)\n",
    "\n",
    "  predicted_label = np.argmax(predictions_array)\n",
    "  if predicted_label == true_label:\n",
    "    color = 'yellow'\n",
    "  else:\n",
    "    color = 'red'\n",
    "\n",
    "  plt.xlabel(\"{} {:2.0f}% ({})\".format(classNames[predicted_label],\n",
    "                                100*np.max(predictions_array),\n",
    "                                classNames[true_label]),\n",
    "                                color=color)"
   ]
  },
  {
   "cell_type": "code",
   "execution_count": 25,
   "id": "49059d35",
   "metadata": {},
   "outputs": [
    {
     "ename": "NameError",
     "evalue": "name 'plt' is not defined",
     "output_type": "error",
     "traceback": [
      "\u001b[1;31m---------------------------------------------------------------------------\u001b[0m",
      "\u001b[1;31mNameError\u001b[0m                                 Traceback (most recent call last)",
      "\u001b[1;32m~\\AppData\\Local\\Temp/ipykernel_7868/4211568695.py\u001b[0m in \u001b[0;36m<module>\u001b[1;34m\u001b[0m\n\u001b[0;32m      1\u001b[0m \u001b[1;32mfor\u001b[0m \u001b[0mi\u001b[0m \u001b[1;32min\u001b[0m \u001b[0mrange\u001b[0m \u001b[1;33m(\u001b[0m\u001b[0mlen\u001b[0m\u001b[1;33m(\u001b[0m\u001b[0mpredictions\u001b[0m\u001b[1;33m)\u001b[0m\u001b[1;33m)\u001b[0m\u001b[1;33m:\u001b[0m\u001b[1;33m\u001b[0m\u001b[1;33m\u001b[0m\u001b[0m\n\u001b[1;32m----> 2\u001b[1;33m     \u001b[0mplt\u001b[0m\u001b[1;33m.\u001b[0m\u001b[0mfigure\u001b[0m\u001b[1;33m(\u001b[0m\u001b[0mfigsize\u001b[0m\u001b[1;33m=\u001b[0m\u001b[1;33m(\u001b[0m\u001b[1;36m6\u001b[0m\u001b[1;33m,\u001b[0m\u001b[1;36m6\u001b[0m\u001b[1;33m)\u001b[0m\u001b[1;33m)\u001b[0m\u001b[1;33m\u001b[0m\u001b[1;33m\u001b[0m\u001b[0m\n\u001b[0m\u001b[0;32m      3\u001b[0m     \u001b[0mplot_image\u001b[0m\u001b[1;33m(\u001b[0m\u001b[0mi\u001b[0m\u001b[1;33m,\u001b[0m \u001b[0mpredictions\u001b[0m\u001b[1;33m[\u001b[0m\u001b[0mi\u001b[0m\u001b[1;33m]\u001b[0m\u001b[1;33m,\u001b[0m \u001b[0mtestLabels\u001b[0m\u001b[1;33m,\u001b[0m \u001b[0mtestImages\u001b[0m\u001b[1;33m)\u001b[0m\u001b[1;33m\u001b[0m\u001b[1;33m\u001b[0m\u001b[0m\n\u001b[0;32m      4\u001b[0m \u001b[1;33m\u001b[0m\u001b[0m\n\u001b[0;32m      5\u001b[0m \u001b[1;33m\u001b[0m\u001b[0m\n",
      "\u001b[1;31mNameError\u001b[0m: name 'plt' is not defined"
     ]
    }
   ],
   "source": [
    "for i in range (len(predictions)):\n",
    "    plt.figure(figsize=(6,6))\n",
    "    plot_image(i, predictions[i], testLabels, testImages)\n",
    "\n",
    "\n",
    "plt.show()"
   ]
  }
 ],
 "metadata": {
  "kernelspec": {
   "display_name": "Python 3 (ipykernel)",
   "language": "python",
   "name": "python3"
  },
  "language_info": {
   "codemirror_mode": {
    "name": "ipython",
    "version": 3
   },
   "file_extension": ".py",
   "mimetype": "text/x-python",
   "name": "python",
   "nbconvert_exporter": "python",
   "pygments_lexer": "ipython3",
   "version": "3.9.8"
  }
 },
 "nbformat": 4,
 "nbformat_minor": 5
}
