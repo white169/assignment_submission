{
 "cells": [
  {
   "cell_type": "markdown",
   "metadata": {},
   "source": [
    "# Assignment 5"
   ]
  },
  {
   "cell_type": "markdown",
   "metadata": {},
   "source": [
    "create a class for BSCstudent (it inherit properties of student class) but it has extra properties:\n",
    "    \n",
    "    a) Major\n",
    "    b) Average\n",
    "    c) Set of pass and failed subjects that keep the name of course and score (could be ditionary)\n",
    "Methods: AVG calculate the average from the scores of the subject taken\n",
    "    \n",
    "2. Required course(get the set of courses in the major): the method shows which courses of the major\n",
    "    is not taken yet by the student\n",
    "    \n",
    "3. printInfor(): print all the info of the student"
   ]
  },
  {
   "cell_type": "code",
   "execution_count": 34,
   "metadata": {},
   "outputs": [
    {
     "name": "stdout",
     "output_type": "stream",
     "text": [
      "Name:  \t\t mahmuda\n",
      "\n",
      "Matric Number: \t\t 123456\n",
      "Subjects  \t\t {'control', 'electronic', 'digital', 'ai'}\n",
      " Major: computer\n",
      "Courses:  {'control', 'electronic', 'digital', 'ai'}\n",
      "average score:  47.75\n"
     ]
    },
    {
     "ename": "AttributeError",
     "evalue": "'BSCstudent' object has no attribute 'course'",
     "output_type": "error",
     "traceback": [
      "\u001b[1;31m---------------------------------------------------------------------------\u001b[0m",
      "\u001b[1;31mAttributeError\u001b[0m                            Traceback (most recent call last)",
      "\u001b[1;32m<ipython-input-34-2de1012a4aff>\u001b[0m in \u001b[0;36m<module>\u001b[1;34m\u001b[0m\n\u001b[0;32m     44\u001b[0m \u001b[1;33m\u001b[0m\u001b[0m\n\u001b[0;32m     45\u001b[0m \u001b[0mstudent\u001b[0m \u001b[1;33m=\u001b[0m \u001b[0mBSCstudent\u001b[0m\u001b[1;33m(\u001b[0m\u001b[1;34m\"mahmuda\"\u001b[0m\u001b[1;33m,\u001b[0m\u001b[1;36m123456\u001b[0m\u001b[1;33m,\u001b[0m\u001b[1;33m{\u001b[0m\u001b[1;34m\"digital\"\u001b[0m\u001b[1;33m,\u001b[0m\u001b[1;34m\"electronic\"\u001b[0m\u001b[1;33m,\u001b[0m\u001b[1;34m\"ai\"\u001b[0m\u001b[1;33m,\u001b[0m\u001b[1;34m\"control\"\u001b[0m\u001b[1;33m}\u001b[0m\u001b[1;33m,\u001b[0m\u001b[1;34m\"computer\"\u001b[0m\u001b[1;33m,\u001b[0m\u001b[1;33m{\u001b[0m\u001b[1;34m\"digital\"\u001b[0m\u001b[1;33m:\u001b[0m\u001b[1;36m90\u001b[0m\u001b[1;33m,\u001b[0m \u001b[1;34m\"math\"\u001b[0m\u001b[1;33m:\u001b[0m\u001b[1;36m54\u001b[0m\u001b[1;33m}\u001b[0m\u001b[1;33m,\u001b[0m\u001b[1;33m{\u001b[0m\u001b[1;34m\"electronic\"\u001b[0m\u001b[1;33m:\u001b[0m \u001b[1;36m29\u001b[0m\u001b[1;33m,\u001b[0m\u001b[1;34m\"ai\"\u001b[0m\u001b[1;33m:\u001b[0m\u001b[1;36m18\u001b[0m\u001b[1;33m}\u001b[0m\u001b[1;33m)\u001b[0m\u001b[1;33m\u001b[0m\u001b[1;33m\u001b[0m\u001b[0m\n\u001b[1;32m---> 46\u001b[1;33m \u001b[0mstudent\u001b[0m\u001b[1;33m.\u001b[0m\u001b[0mprintInfo\u001b[0m\u001b[1;33m(\u001b[0m\u001b[1;33m)\u001b[0m\u001b[1;33m\u001b[0m\u001b[1;33m\u001b[0m\u001b[0m\n\u001b[0m\u001b[0;32m     47\u001b[0m \u001b[1;33m\u001b[0m\u001b[0m\n\u001b[0;32m     48\u001b[0m \u001b[1;33m\u001b[0m\u001b[0m\n",
      "\u001b[1;32m<ipython-input-34-2de1012a4aff>\u001b[0m in \u001b[0;36mprintInfo\u001b[1;34m(self)\u001b[0m\n\u001b[0;32m     39\u001b[0m         \u001b[0mprint\u001b[0m\u001b[1;33m(\u001b[0m\u001b[1;34m\"Courses: \"\u001b[0m\u001b[1;33m,\u001b[0m\u001b[0mself\u001b[0m\u001b[1;33m.\u001b[0m\u001b[0msubjects\u001b[0m\u001b[1;33m)\u001b[0m\u001b[1;33m\u001b[0m\u001b[1;33m\u001b[0m\u001b[0m\n\u001b[0;32m     40\u001b[0m         \u001b[0mprint\u001b[0m\u001b[1;33m(\u001b[0m\u001b[1;34m\"average score: \"\u001b[0m\u001b[1;33m,\u001b[0m\u001b[0mavg\u001b[0m\u001b[1;33m)\u001b[0m\u001b[1;33m\u001b[0m\u001b[1;33m\u001b[0m\u001b[0m\n\u001b[1;32m---> 41\u001b[1;33m         \u001b[0mprint\u001b[0m\u001b[1;33m(\u001b[0m\u001b[1;34m\"courses reuired \"\u001b[0m\u001b[1;33m,\u001b[0m \u001b[0mself\u001b[0m\u001b[1;33m.\u001b[0m\u001b[0mcourse\u001b[0m\u001b[1;33m)\u001b[0m\u001b[1;33m\u001b[0m\u001b[1;33m\u001b[0m\u001b[0m\n\u001b[0m\u001b[0;32m     42\u001b[0m \u001b[1;33m\u001b[0m\u001b[0m\n\u001b[0;32m     43\u001b[0m \u001b[1;33m\u001b[0m\u001b[0m\n",
      "\u001b[1;31mAttributeError\u001b[0m: 'BSCstudent' object has no attribute 'course'"
     ]
    }
   ],
   "source": [
    "class students:\n",
    "    def __init__(self, Name, matricNo, subject):\n",
    "        self.name = Name\n",
    "        self.matricNo = matricNo\n",
    "        self.subjects = subject\n",
    "        \n",
    "    def printStudentInfo (self):\n",
    "        print(\"Name:  \\t\\t\", self.name)\n",
    "        print(\"\\nMatric Number: \\t\\t\", self.matricNo)\n",
    "        print(\"Subjects  \\t\\t\", self.subjects)\n",
    "        \n",
    "class BSCstudent(students):\n",
    "    def __init__(self, Name,matricNo,subject,major,passed,failed):\n",
    "        super().__init__(Name,matricNo,subject)\n",
    "        \n",
    "          \n",
    "        self.subjects = subject\n",
    "        self.major = major\n",
    "        self.passed = passed\n",
    "        self.failed = failed\n",
    "        \n",
    "    def average(self):\n",
    "        a = list(self.passed.values())\n",
    "        b = list(self.failed.values())\n",
    "        \n",
    "        total = a + b\n",
    "        avg = sum(total)/len(total)\n",
    "        return avg\n",
    "    \n",
    "    def requiredCourse(self):\n",
    "        return self.course\n",
    "    \n",
    "    def printInfo(self):\n",
    "        avg = self.average()\n",
    "    \n",
    "        super().printStudentInfo()\n",
    "    \n",
    "        print(\" Major:\", self.major)\n",
    "        print(\"Courses: \",self.subjects)\n",
    "        print(\"average score: \",avg)\n",
    "        print(\"courses reuired \", self.course)\n",
    "        \n",
    "        \n",
    "        \n",
    "student = BSCstudent(\"mahmuda\",123456,{\"digital\",\"electronic\",\"ai\",\"control\"},\"computer\",{\"digital\":90, \"math\":54},{\"electronic\": 29,\"ai\":18})\n",
    "student.printInfo()\n",
    "     \n",
    "        \n",
    "    \n",
    "    \n",
    "        "
   ]
  },
  {
   "cell_type": "code",
   "execution_count": null,
   "metadata": {},
   "outputs": [],
   "source": [
    "#define a class for students\n",
    "# the class contains these properties: 1. name 2. matricNo 3. set of course they take\n",
    "# the class also contains some method:\n",
    "# 1. __init__ method takes the initial properties from user to be filled\n",
    "# 2. print method to print all the information of the student in a good format\n",
    "\n",
    "# after you defined a class, make 3 object from the class and fill them with your information and\n",
    "#two of your fridn and print their properties using the print function of the class."
   ]
  },
  {
   "cell_type": "code",
   "execution_count": 37,
   "metadata": {},
   "outputs": [
    {
     "ename": "AttributeError",
     "evalue": "'students' object has no attribute 'func'",
     "output_type": "error",
     "traceback": [
      "\u001b[1;31m---------------------------------------------------------------------------\u001b[0m",
      "\u001b[1;31mAttributeError\u001b[0m                            Traceback (most recent call last)",
      "\u001b[1;32m<ipython-input-37-a5727af542bd>\u001b[0m in \u001b[0;36m<module>\u001b[1;34m\u001b[0m\n\u001b[0;32m     12\u001b[0m \u001b[0ms3\u001b[0m \u001b[1;33m=\u001b[0m \u001b[0mstudents\u001b[0m\u001b[1;33m(\u001b[0m\u001b[1;34m\"hana\"\u001b[0m\u001b[1;33m,\u001b[0m \u001b[1;36m89899898789\u001b[0m\u001b[1;33m,\u001b[0m \u001b[1;34m\"ai\"\u001b[0m\u001b[1;33m)\u001b[0m\u001b[1;33m\u001b[0m\u001b[1;33m\u001b[0m\u001b[0m\n\u001b[0;32m     13\u001b[0m \u001b[1;33m\u001b[0m\u001b[0m\n\u001b[1;32m---> 14\u001b[1;33m \u001b[0ms1\u001b[0m\u001b[1;33m.\u001b[0m\u001b[0mfunc\u001b[0m\u001b[1;33m(\u001b[0m\u001b[1;33m)\u001b[0m\u001b[1;33m\u001b[0m\u001b[1;33m\u001b[0m\u001b[0m\n\u001b[0m\u001b[0;32m     15\u001b[0m \u001b[0ms2\u001b[0m\u001b[1;33m.\u001b[0m\u001b[0mfunc\u001b[0m\u001b[1;33m(\u001b[0m\u001b[1;33m)\u001b[0m\u001b[1;33m\u001b[0m\u001b[1;33m\u001b[0m\u001b[0m\n\u001b[0;32m     16\u001b[0m \u001b[0ms3\u001b[0m\u001b[1;33m.\u001b[0m\u001b[0mfunc\u001b[0m\u001b[1;33m(\u001b[0m\u001b[1;33m)\u001b[0m\u001b[1;33m\u001b[0m\u001b[1;33m\u001b[0m\u001b[0m\n",
      "\u001b[1;31mAttributeError\u001b[0m: 'students' object has no attribute 'func'"
     ]
    }
   ],
   "source": [
    "class students:\n",
    "    def __init__(self,name,matric,course):\n",
    "        self.name = name\n",
    "        self.matric = matric\n",
    "        self.course = course\n",
    "\n",
    "def func(self):\n",
    "    print(\"name: \" +self.name, \"MatricNo: \" +self.matric,\" course : \"+self.course)\n",
    "\n",
    "s1 = students(\"john\",12123231,\"electro\")\n",
    "s2 = students(\"ali\", 132311243, \"digital\")\n",
    "s3 = students(\"hana\", 89899898789, \"ai\")\n",
    "\n",
    "s1.func()\n",
    "s2.func()\n",
    "s3.func()"
   ]
  }
 ],
 "metadata": {
  "kernelspec": {
   "display_name": "Python 3",
   "language": "python",
   "name": "python3"
  },
  "language_info": {
   "codemirror_mode": {
    "name": "ipython",
    "version": 3
   },
   "file_extension": ".py",
   "mimetype": "text/x-python",
   "name": "python",
   "nbconvert_exporter": "python",
   "pygments_lexer": "ipython3",
   "version": "3.7.3"
  }
 },
 "nbformat": 4,
 "nbformat_minor": 2
}
