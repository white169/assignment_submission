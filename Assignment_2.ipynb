stri1 = "this is string example.....wow!!!"
print (str1.capitilize())