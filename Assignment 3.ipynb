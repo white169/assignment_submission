{
 "cells": [
  {
   "cell_type": "code",
   "execution_count": null,
   "metadata": {},
   "outputs": [],
   "source": [
    "#Question 1: sets"
   ]
  },
  {
   "cell_type": "code",
   "execution_count": 14,
   "metadata": {},
   "outputs": [
    {
     "name": "stdout",
     "output_type": "stream",
     "text": [
      "all subject taken:  {'controlsystem', 'digital', 'engmath', 'embedded'}\n",
      "subject failed:  {'engmath'}\n",
      " all of course taken is:  {'controlsystem', 'electromagnetic', 'statistic', 'digital', 'engmanagement', 'engmath', 'embedded'}\n",
      "subject taken:  {'controlsystem', 'digital', 'engmath', 'embedded'}\n"
     ]
    }
   ],
   "source": [
    "majors = {\"engmath\",\"embedded\",\"controlsystem\",\"digital\"}\n",
    "passed = {\"embedded\",\"controlsystem\",\"digital\"}\n",
    "print(\"all subject taken: \", majors)\n",
    "\n",
    "print(\"subject failed: \", majors.difference(passed))\n",
    "\n",
    "others ={\"engmanagement\",\"statistic\",\"electromagnetic\"}\n",
    "print(\" all of course taken is: \", majors.union(passed,others))\n",
    "\n",
    "print(\"subject taken: \",majors.difference(others) )\n"
   ]
  },
  {
   "cell_type": "code",
   "execution_count": null,
   "metadata": {},
   "outputs": [],
   "source": [
    "#question 2: tuple"
   ]
  },
  {
   "cell_type": "code",
   "execution_count": 14,
   "metadata": {},
   "outputs": [
    {
     "name": "stdout",
     "output_type": "stream",
     "text": [
      "{'one': 'satu', 'two': 'dua', 'three': 'tiga', 'five': 'lima', 'six': 'enam', 'seven': 'tujuh', 'eight': 'lapan', 'nine': 'sembilan', 'ten': 'sepuluh'} \n",
      "\n",
      "dict_keys(['one', 'two', 'three', 'five', 'six', 'seven', 'eight', 'nine', 'ten']) \n",
      "\n",
      "\n",
      "please provide malay word for   ['empat'] \n",
      "\n"
     ]
    }
   ],
   "source": [
    "number ={\"one\":\"satu\",\"two\":\"dua\",\"three\":\"tiga\",\"five\":\"lima\",\"six\":\"enam\",\"seven\":\"tujuh\",\"eight\":\"lapan\",\"nine\":\"sembilan\",\"ten\":\"sepuluh\"}\n",
    "print(number,\"\\n\")\n",
    "print(number.keys(),\"\\n\\n\")\n",
    "\n",
    "correct =dict(satu ='one', dua = 'two', tiga ='three', empat ='four', lima ='five', enam='six', tujuh='seven',lapan ='eight', sembilan ='nine', sepuluh = 'ten')\n",
    "\n",
    "numberfull =[i for i in correct.keys()]\n",
    "number_list = [i for i in number.values()]\n",
    "missing = [i for i in numberfull if i not in number_list]\n",
    "\n",
    "print(\"please provide malay word for  \",missing,\"\\n\")\n",
    "\n",
    "\n",
    "\n",
    "\n",
    "\n"
   ]
  },
  {
   "cell_type": "code",
   "execution_count": null,
   "metadata": {},
   "outputs": [],
   "source": [
    "#Question 3 : loop"
   ]
  },
  {
   "cell_type": "code",
   "execution_count": 17,
   "metadata": {},
   "outputs": [
    {
     "name": "stdout",
     "output_type": "stream",
     "text": [
      "enter n number: 7\n",
      "28\n",
      "7\n"
     ]
    }
   ],
   "source": [
    "n = int(input(\"enter n number: \"))\n",
    "list =[]\n",
    "\n",
    "for i in range(n+1):\n",
    "    list.append(i)\n",
    "    s = sum(list)\n",
    "print(s)\n",
    "\n",
    "list.clear()\n",
    "\n",
    "while n>=0:\n",
    "    list.append(n)\n",
    "    s = sum(list)\n",
    "    n=-1\n",
    "    \n",
    "print(s)\n",
    "\n"
   ]
  }
 ],
 "metadata": {
  "kernelspec": {
   "display_name": "Python 3",
   "language": "python",
   "name": "python3"
  }
 },
 "nbformat": 4,
 "nbformat_minor": 2
}
