{
 "cells": [
  {
   "cell_type": "code",
   "execution_count": null,
   "metadata": {},
   "outputs": [],
   "source": [
    "#Take home assignment"
   ]
  },
  {
   "cell_type": "code",
   "execution_count": null,
   "metadata": {},
   "outputs": [],
   "source": [
    "#assignmnet 1 \n",
    "#find out other format time and date and try to use"
   ]
  },
  {
   "cell_type": "code",
   "execution_count": 51,
   "metadata": {},
   "outputs": [
    {
     "name": "stdout",
     "output_type": "stream",
     "text": [
      "Today's date: 2021-10-22\n"
     ]
    }
   ],
   "source": [
    "from datetime import date\n",
    "\n",
    "today = date.today()\n",
    "print(\"Today's date:\", today)\n"
   ]
  },
  {
   "cell_type": "code",
   "execution_count": 52,
   "metadata": {},
   "outputs": [
    {
     "name": "stdout",
     "output_type": "stream",
     "text": [
      "day1 = 22/10/2021\n",
      "day2 = October 22, 2021\n",
      "day3 = 10/22/21\n",
      "day4 = Oct-22-2021\n"
     ]
    }
   ],
   "source": [
    "from datetime import date\n",
    "\n",
    "today = date.today()\n",
    "\n",
    "# dd/mm/YY\n",
    "day1 = today.strftime(\"%d/%m/%Y\")\n",
    "print(\"day1 =\", d1)\n",
    "\n",
    "# Textual month, day and year\t\n",
    "day2 = today.strftime(\"%B %d, %Y\")\n",
    "print(\"day2 =\", d2)\n",
    "\n",
    "# mm/dd/y\n",
    "day3 = today.strftime(\"%m/%d/%y\")\n",
    "print(\"day3 =\", d3)\n",
    "\n",
    "# Month abbreviation, day and year\t\n",
    "day4 = today.strftime(\"%b-%d-%Y\")\n",
    "print(\"day4 =\", d4)\n"
   ]
  },
  {
   "cell_type": "code",
   "execution_count": 53,
   "metadata": {},
   "outputs": [
    {
     "name": "stdout",
     "output_type": "stream",
     "text": [
      "now = 2021-10-22 09:48:09.720625\n",
      "date and time = 22/10/2021 09:48:09\n"
     ]
    }
   ],
   "source": [
    "from datetime import datetime\n",
    "\n",
    "# datetime object containing current date and time\n",
    "now = datetime.now()\n",
    " \n",
    "print(\"now =\", now)\n",
    "\n",
    "# dd/mm/YY H:M:S\n",
    "dt_string = now.strftime(\"%d/%m/%Y %H:%M:%S\")\n",
    "print(\"date and time =\", dt_string)\t\n"
   ]
  },
  {
   "cell_type": "code",
   "execution_count": null,
   "metadata": {},
   "outputs": [],
   "source": [
    "#assignment 2 find out more about math module"
   ]
  },
  {
   "cell_type": "code",
   "execution_count": 9,
   "metadata": {},
   "outputs": [
    {
     "name": "stdout",
     "output_type": "stream",
     "text": [
      "circumference of a circle is:   376.99111843077515\n",
      "m =  216000.0\n",
      "a = 8.681145747868609\n"
     ]
    }
   ],
   "source": [
    "import math\n",
    "r = 60\n",
    "circumference = 2* math.pi* r\n",
    "print(\"circumference of a circle is:  \",circumference)\n",
    "\n",
    "m = math.pow(r,3)\n",
    "print(\"m = \",m)\n",
    "\n",
    "a = 1 + math.sqrt(r - 1)\n",
    "print(\"a =\", a)"
   ]
  },
  {
   "cell_type": "code",
   "execution_count": null,
   "metadata": {},
   "outputs": [],
   "source": [
    "#assignment 3 \n",
    "# 1. create a module with your name and import a function of the previous assignment to it. Try to use them in another file.\n",
    "# 2. check the existing function in math module"
   ]
  },
  {
   "cell_type": "code",
   "execution_count": null,
   "metadata": {},
   "outputs": [],
   "source": []
  },
  {
   "cell_type": "code",
   "execution_count": 57,
   "metadata": {},
   "outputs": [
    {
     "name": "stdout",
     "output_type": "stream",
     "text": [
      "20.0\n"
     ]
    }
   ],
   "source": [
    "\n",
    "wz= lambda x,y,z:   2*math.pow(x,2) + 2*y +z\n",
    "print(wz(2,4,4))\n"
   ]
  },
  {
   "cell_type": "code",
   "execution_count": 50,
   "metadata": {},
   "outputs": [
    {
     "name": "stdout",
     "output_type": "stream",
     "text": [
      "20.0\n"
     ]
    },
    {
     "data": {
      "text/plain": [
       "20.0"
      ]
     },
     "execution_count": 50,
     "metadata": {},
     "output_type": "execute_result"
    }
   ],
   "source": [
    "def function(x,y,z):\n",
    "    f = 2*math.pow(x,2) + 2*y +z\n",
    "    print(f)\n",
    "    return f\n",
    "\n",
    "function(2,4,4)"
   ]
  },
  {
   "cell_type": "code",
   "execution_count": null,
   "metadata": {},
   "outputs": [],
   "source": [
    "# Question 2\n",
    "# write a function to calculate s = 1+2+...+n\n",
    "# a)simple way\n",
    "# b) via a recursive function\n",
    "\n",
    "# 3. write a function to create fibonacci sequence(0,1,1,2,3,5)\n",
    "#  TIP: The function get the number of term and produce the terms from 0 to the n\n",
    "#  NOTE: once without recursion, another time with recursion"
   ]
  },
  {
   "cell_type": "code",
   "execution_count": 58,
   "metadata": {},
   "outputs": [
    {
     "name": "stdout",
     "output_type": "stream",
     "text": [
      "Enter number9\n",
      "Sum of first  9 numbers is:  45\n"
     ]
    }
   ],
   "source": [
    "#simple way\n",
    "n = int(input(\"Enter number\"))\n",
    "sum = 0\n",
    "# loop from 1 to n\n",
    "for num in range(1, n + 1, 1):\n",
    "    sum = sum + num\n",
    "print(\"Sum of first \", n, \"numbers is: \", sum)\n"
   ]
  },
  {
   "cell_type": "code",
   "execution_count": 60,
   "metadata": {},
   "outputs": [
    {
     "name": "stdout",
     "output_type": "stream",
     "text": [
      "2\n",
      "3\n",
      "4\n",
      "5\n",
      "6\n",
      "7\n",
      "8\n",
      "9\n"
     ]
    },
    {
     "data": {
      "text/plain": [
       "45"
      ]
     },
     "execution_count": 60,
     "metadata": {},
     "output_type": "execute_result"
    }
   ],
   "source": [
    "# recursive function\n",
    "def summation(x:0):\n",
    "    \n",
    "\n",
    "    if x == 1:\n",
    "        return 1\n",
    "    else:\n",
    "        add = x + (summation(x-1)) \n",
    "      \n",
    "        return add\n",
    "        \n",
    "        \n",
    "summation(9)"
   ]
  },
  {
   "cell_type": "code",
   "execution_count": 61,
   "metadata": {},
   "outputs": [
    {
     "name": "stdout",
     "output_type": "stream",
     "text": [
      "How many terms? 8\n",
      "Fibonacci sequence:\n",
      "0\n",
      "1\n",
      "1\n",
      "2\n",
      "3\n",
      "5\n",
      "8\n",
      "13\n"
     ]
    }
   ],
   "source": [
    "# write a function to create fibonacci sequence(0,1,1,2,3,5)\n",
    "\n",
    "\n",
    "nterms = int(input(\"How many terms? \"))\n",
    "n1, n2 = 0, 1\n",
    "count = 0\n",
    "\n",
    "if nterms == 1:\n",
    "   print(\"Fibonacci sequence up to\",nterms,\":\")\n",
    "   print(n1)\n",
    "\n",
    "else:\n",
    "   print(\"Fibonacci sequence:\")\n",
    "   while count < nterms:\n",
    "       print(n1)\n",
    "       nth = n1 + n2\n",
    "       \n",
    "       n1 = n2\n",
    "       n2 = nth\n",
    "       count += 1"
   ]
  },
  {
   "cell_type": "code",
   "execution_count": 62,
   "metadata": {},
   "outputs": [
    {
     "name": "stdout",
     "output_type": "stream",
     "text": [
      "Hello  mahmuda\n",
      "your fav food is  nasilemak\n"
     ]
    }
   ],
   "source": [
    "# Question 3: module\n",
    "\n",
    "import mahmudaModule\n",
    "\n",
    "mahmudaModule.greeting(\"mahmuda\")\n",
    "mahmudaModule.favfood(\"nasilemak\")"
   ]
  },
  {
   "cell_type": "code",
   "execution_count": 1,
   "metadata": {
    "scrolled": false
   },
   "outputs": [
    {
     "name": "stdout",
     "output_type": "stream",
     "text": [
      "How many lines? >> 3\n",
      "Input message for line 1:  hello world\n",
      "Input message for line 2: goodbye\n",
      "Input message for line 3: something\n",
      " hello world\n",
      "\n",
      "goodbye\n",
      "\n",
      "something\n",
      "\n"
     ]
    }
   ],
   "source": [
    "import os\n",
    "\n",
    "from mahmudapackage import FileHandling\n",
    "\n",
    "FileHandling.create(\"test\")\n",
    "FileHandling.write(\"test\")\n",
    "FileHandling.read(\"test\")"
   ]
  }
 ],
 "metadata": {
  "kernelspec": {
   "display_name": "Python 3",
   "language": "python",
   "name": "python3"
  },
  "language_info": {
   "codemirror_mode": {
    "name": "ipython",
    "version": 3
   },
   "file_extension": ".py",
   "mimetype": "text/x-python",
   "name": "python",
   "nbconvert_exporter": "python",
   "pygments_lexer": "ipython3",
   "version": "3.7.3"
  }
 },
 "nbformat": 4,
 "nbformat_minor": 2
}
