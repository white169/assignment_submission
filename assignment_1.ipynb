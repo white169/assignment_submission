{
 "cells": [
  {
   "cell_type": "code",
   "execution_count": 5,
   "metadata": {},
   "outputs": [
    {
     "name": "stdout",
     "output_type": "stream",
     "text": [
      "Question 1\n"
     ]
    }
   ],
   "source": [
    "print (\"Question 1\")"
   ]
  },
  {
   "cell_type": "code",
   "execution_count": 1,
   "metadata": {},
   "outputs": [
    {
     "name": "stdout",
     "output_type": "stream",
     "text": [
      "enter employee nameAi Imagine\n",
      "enter applicant name Mahmuda\n",
      "enter apllicant contact number 019-7548502\n"
     ]
    }
   ],
   "source": [
    "svname = input(\"enter employee name\")\n",
    "name = input(\"enter applicant name\")\n",
    "contact =input(\"enter apllicant contact number\")"
   ]
  },
  {
   "cell_type": "code",
   "execution_count": 9,
   "metadata": {
    "scrolled": false
   },
   "outputs": [
    {
     "name": "stdout",
     "output_type": "stream",
     "text": [
      " Dear Ai Imagine ,\n",
      "\n",
      " I am writing to you to apply for the trainee position for Perantis Iskandar Programme. I come across the advertisement on the Internet and am very excited to learn more about the program. \n",
      "\n",
      " 2. I am a bachelor graduate from UTM in Degree of Electrical-Electronic. Artificial Inteligence program has caught my eyes as it has been my genuine passion and it has been my longest dream to become a software programmer. I am an eager and responsible person that will make sure I have the credibility to strive my dream. \n",
      "\n",
      " 3. I hope you will contact me at your earliest convenience to discuss the program and arrange an interview. Thank you for your time and consideration. \n",
      "\n",
      "\n",
      " Sincerely,\n",
      "  Mahmuda \n",
      "  019-7548502\n"
     ]
    }
   ],
   "source": [
    "print(\" Dear\",svname,\",\"\"\\n\\n I am writing to you to apply for the trainee position for Perantis Iskandar Programme. I come across the advertisement on the Internet and am very excited to learn more about the program. \\n\\n 2. I am a bachelor graduate from UTM in Degree of Electrical-Electronic. Artificial Inteligence program has caught my eyes as it has been my genuine passion and it has been my longest dream to become a software programmer. I am an eager and responsible person that will make sure I have the credibility to strive my dream. \\n\\n 3. I hope you will contact me at your earliest convenience to discuss the program and arrange an interview. Thank you for your time and consideration. \\n\\n\\n Sincerely,\\n\", name,\"\\n\",contact)"
   ]
  },
  {
   "cell_type": "code",
   "execution_count": 6,
   "metadata": {},
   "outputs": [
    {
     "name": "stdout",
     "output_type": "stream",
     "text": [
      "Question 2\n"
     ]
    }
   ],
   "source": [
    "print (\"Question 2\")"
   ]
  },
  {
   "cell_type": "code",
   "execution_count": 7,
   "metadata": {},
   "outputs": [],
   "source": [
    "a = 2\n",
    "b = 8\n",
    "c = 1"
   ]
  },
  {
   "cell_type": "code",
   "execution_count": 11,
   "metadata": {},
   "outputs": [],
   "source": [
    "import math "
   ]
  },
  {
   "cell_type": "code",
   "execution_count": 12,
   "metadata": {},
   "outputs": [],
   "source": [
    "d = math.sqrt(b**2 - 4*a*c)"
   ]
  },
  {
   "cell_type": "code",
   "execution_count": 13,
   "metadata": {},
   "outputs": [],
   "source": [
    "e = -b + d"
   ]
  },
  {
   "cell_type": "code",
   "execution_count": 15,
   "metadata": {},
   "outputs": [],
   "source": [
    "x = e/(2*a)"
   ]
  },
  {
   "cell_type": "code",
   "execution_count": 16,
   "metadata": {},
   "outputs": [
    {
     "name": "stdout",
     "output_type": "stream",
     "text": [
      "-0.12917130661302934\n"
     ]
    }
   ],
   "source": [
    "print(x)"
   ]
  },
  {
   "cell_type": "code",
   "execution_count": 17,
   "metadata": {},
   "outputs": [],
   "source": [
    "f = -b - d"
   ]
  },
  {
   "cell_type": "code",
   "execution_count": 19,
   "metadata": {},
   "outputs": [],
   "source": [
    "x = f/(2*a)"
   ]
  },
  {
   "cell_type": "code",
   "execution_count": 20,
   "metadata": {},
   "outputs": [
    {
     "name": "stdout",
     "output_type": "stream",
     "text": [
      "-3.8708286933869704\n"
     ]
    }
   ],
   "source": [
    "print(x)"
   ]
  },
  {
   "cell_type": "code",
   "execution_count": null,
   "metadata": {},
   "outputs": [],
   "source": []
  }
 ],
 "metadata": {
  "kernelspec": {
   "display_name": "Python 3",
   "language": "python",
   "name": "python3"
  },
  "language_info": {
   "codemirror_mode": {
    "name": "ipython",
    "version": 3
   },
   "file_extension": ".py",
   "mimetype": "text/x-python",
   "name": "python",
   "nbconvert_exporter": "python",
   "pygments_lexer": "ipython3",
   "version": "3.7.3"
  }
 },
 "nbformat": 4,
 "nbformat_minor": 2
}
