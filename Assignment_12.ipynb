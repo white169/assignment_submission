{
 "cells": [
  {
   "cell_type": "markdown",
   "metadata": {},
   "source": [
    "#ASSIGNMENT_12\n",
    "\n",
    "# 1. draw a triangle\n",
    "# 2. draw a hexagon\n",
    "# 3. draw a decagon\n",
    "# 4. draw a line with 7 point that will no meet"
   ]
  },
  {
   "cell_type": "code",
   "execution_count": 5,
   "metadata": {},
   "outputs": [],
   "source": [
    "import numpy as np\n",
    "\n",
    "def create_canvas(height=500, width=500, bgColor=0):\n",
    "    # create the image (canvas)\n",
    "    canvas = np.zeros((height, width, 3), dtype='uint8')\n",
    "    if bgColor != 0:\n",
    "        canvas[:] = bgColor\n",
    "    return canvas\n",
    "\n",
    "def show_in_matplotlib(img, figsize=(6,8)):\n",
    "    imgRGB = cv.cvtColor(img, cv.COLOR_BGR2RGB)\n",
    "    plt.figure(figsize=figsize)\n",
    "    \n",
    "    plt.imshow(imgRGB)\n",
    "    plt.show()"
   ]
  },
  {
   "cell_type": "code",
   "execution_count": 10,
   "metadata": {},
   "outputs": [],
   "source": [
    "colors = {\n",
    "    'BLUE': (255, 0, 0),\n",
    "    'GREEN': (0, 255, 0),\n",
    "    'RED': (0, 0, 255),\n",
    "    'YELLOW': (0, 255, 255),\n",
    "    'MAGENTA': (255, 0, 255),\n",
    "    'CYAN': (255, 255, 0),\n",
    "    'DARK_GRAY': (50, 50, 50),\n",
    "    'LIGHT_GRAY': (200, 200, 200),\n",
    "}"
   ]
  },
  {
   "cell_type": "code",
   "execution_count": 11,
   "metadata": {},
   "outputs": [
    {
     "data": {
      "image/png": "[encoded data removed]",
      "text/plain": [
       "<Figure size 432x576 with 1 Axes>"
      ]
     },
     "metadata": {
      "needs_background": "light"
     },
     "output_type": "display_data"
    }
   ],
   "source": [
    "\n",
    "import numpy as np\n",
    "import matplotlib.pyplot as plt\n",
    "import cv2 as cv\n",
    "\n",
    "\n",
    "img = create_canvas(height=400, width=600, bgColor=colors['LIGHT_GRAY'])\n",
    "\n",
    "pts = np.array([[50,250],[100,100],[150,250]], np.int32)\n",
    "pts = pts.reshape((-1, 1, 2))\n",
    "# draw triangle\n",
    "cv.polylines(img, [pts], True, colors['RED'], 3)\n",
    "\n",
    "pts = np.array([[150,200],[150,200], [200,150],[250,150],[300,200],[300,250],[250,300],[200,300],[150,250],], np.int32)\n",
    "pts = pts.reshape((-1, 1, 2))\n",
    "# draw hexagon\n",
    "cv.polylines(img, [pts], True, colors['GREEN'], 3)\n",
    "\n",
    "pts = np.array([[400,300],[380,280],[350,250],[350,200],[380,180],[400,160],[420,170],[440,190],[460,210],[460,250],[440,280]], np.int32)\n",
    "pts = pts.reshape((-1, 1, 2))\n",
    "# draw decagon\n",
    "cv.polylines(img, [pts], True, colors['BLUE'], 3)\n",
    "\n",
    "pts = np.array([[50,350], [100,300], [150,350], [200,300],[250,350],[300,300],[350,350]])\n",
    "pts = np.int32((pts * 0.5))\n",
    "pts = pts.reshape((-1, 1, 2))\n",
    "# draw 7 point that dont meet\n",
    "cv.polylines(img, [pts], False, colors['MAGENTA'], 3)\n",
    "\n",
    "\n",
    "show_in_matplotlib(img)"
   ]
  }
 ],
 "metadata": {
  "kernelspec": {
   "display_name": "Python 3",
   "language": "python",
   "name": "python3"
  },
  "language_info": {
   "codemirror_mode": {
    "name": "ipython",
    "version": 3
   },
   "file_extension": ".py",
   "mimetype": "text/x-python",
   "name": "python",
   "nbconvert_exporter": "python",
   "pygments_lexer": "ipython3",
   "version": "3.7.3"
  }
 },
 "nbformat": 4,
 "nbformat_minor": 2
}
