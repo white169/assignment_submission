{
 "cells": [
  {
   "cell_type": "markdown",
   "metadata": {},
   "source": [
    "Assignment\n",
    "Create an array of shape (10, 10) with uint8 random values.\n",
    "print the shape, size and dimension,\n",
    "Compute the sum of the third row to the last.\n",
    "Compute the average of the columns"
   ]
  },
  {
   "cell_type": "code",
   "execution_count": 9,
   "metadata": {},
   "outputs": [],
   "source": [
    "def array_properties(a):\n",
    "    print(\"a = \\n\", a)\n",
    "    print(\"dim = \", a.ndim)\n",
    "    print(\"shape = \", a.shape)\n",
    "    print(\"datatype = \", a.dtype)\n",
    "    print(\"size = \", a.size)\n",
    "    print()"
   ]
  },
  {
   "cell_type": "code",
   "execution_count": 27,
   "metadata": {},
   "outputs": [
    {
     "name": "stdout",
     "output_type": "stream",
     "text": [
      "a = \n",
      " [[ 17  89 254  45  82  37  36 205   5 208]\n",
      " [139 128 139 223  38 136 149  42 140  59]\n",
      " [174  97  73 121 160 231 143 184  66 199]\n",
      " [ 19 215 132 104  17 127 202 125 180 212]\n",
      " [222  97  35 193 246  67 217 161  34  90]\n",
      " [115 128 249  11 195 208 117  24 143 220]\n",
      " [ 96 214 191 211 234  57 251 133  51 177]\n",
      " [  2 247 101 167  14 168 229 191 218 155]\n",
      " [139 168  20 254   7 218 144  58  43  99]\n",
      " [ 83 218  32 108 146 161 126 148 111  60]]\n",
      "dim =  2\n",
      "shape =  (10, 10)\n",
      "datatype =  uint8\n",
      "size =  100\n",
      "\n",
      "[[ 19 215 132 104  17 127 202 125 180 212]\n",
      " [222  97  35 193 246  67 217 161  34  90]\n",
      " [115 128 249  11 195 208 117  24 143 220]\n",
      " [ 96 214 191 211 234  57 251 133  51 177]\n",
      " [  2 247 101 167  14 168 229 191 218 155]\n",
      " [139 168  20 254   7 218 144  58  43  99]\n",
      " [ 83 218  32 108 146 161 126 148 111  60]]\n",
      "\n",
      "\n",
      " 360\n",
      "\n",
      " total:  10\n",
      "\n",
      " sum: 978\n",
      "\n",
      "\n",
      " 97.8\n"
     ]
    }
   ],
   "source": [
    "import numpy as np\n",
    "\n",
    "#a1 = np.arange(1,13)\n",
    "#array_properties(a1)\n",
    "\n",
    "rand = np.random.randint(0,256,(10,10),dtype ='uint8')\n",
    "array_properties(rand)\n",
    "\n",
    "print(rand[3:,:])\n",
    "summation = sum(rand[0,:3])\n",
    "print(\"\\n\\n\",summation)\n",
    "\n",
    "\n",
    "print(\"\\n total: \",len(rand[0,:]))\n",
    "print(\"\\n sum:\",sum(rand[0,:]))     \n",
    "average = sum(rand[0,:])/len(rand[0,:])\n",
    "print(\"\\n\\n\",average)"
   ]
  }
 ],
 "metadata": {
  "kernelspec": {
   "display_name": "Python 3",
   "language": "python",
   "name": "python3"
  },
  "language_info": {
   "codemirror_mode": {
    "name": "ipython",
    "version": 3
   },
   "file_extension": ".py",
   "mimetype": "text/x-python",
   "name": "python",
   "nbconvert_exporter": "python",
   "pygments_lexer": "ipython3",
   "version": "3.7.3"
  }
 },
 "nbformat": 4,
 "nbformat_minor": 2
}
