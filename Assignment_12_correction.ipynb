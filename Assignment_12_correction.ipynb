{
 "cells": [
  {
   "cell_type": "markdown",
   "metadata": {},
   "source": [
    "#ASSIGNMENT_12\n",
    "\n",
    "# 1. draw a triangle\n",
    "# 2. draw a hexagon\n",
    "# 3. draw a decagon\n",
    "# 4. draw a line with 7 point that will no meet"
   ]
  },
  {
   "cell_type": "code",
   "execution_count": 13,
   "metadata": {},
   "outputs": [],
   "source": [
    "import numpy as np\n",
    "\n",
    "def create_canvas(height=500, width=500, bgColor=0):\n",
    "    # create the image (canvas)\n",
    "    canvas = np.zeros((height, width, 3), dtype='uint8')\n",
    "    if bgColor != 0:\n",
    "        canvas[:] = bgColor\n",
    "    return canvas\n",
    "\n",
    "def show_in_matplotlib(img, figsize=(6,8)):\n",
    "    imgRGB = cv.cvtColor(img, cv.COLOR_BGR2RGB)\n",
    "    plt.figure(figsize=figsize)\n",
    "    \n",
    "    plt.imshow(imgRGB)\n",
    "    plt.show()\n",
    "    \n",
    "colors = {\n",
    "    'BLUE': (255, 0, 0),\n",
    "    'GREEN': (0, 255, 0),\n",
    "    'RED': (0, 0, 255),\n",
    "    'YELLOW': (0, 255, 255),\n",
    "    'MAGENTA': (255, 0, 255),\n",
    "    'CYAN': (255, 255, 0),\n",
    "    'DARK_GRAY': (50, 50, 50),\n",
    "    'LIGHT_GRAY': (200, 200, 200),\n",
    "    'BLACK': (0,0,0)\n",
    "}"
   ]
  },
  {
   "cell_type": "code",
   "execution_count": 88,
   "metadata": {},
   "outputs": [
    {
     "data": {
      "image/png": "[encoded data removed]",
      "text/plain": [
       "<Figure size 432x576 with 1 Axes>"
      ]
     },
     "metadata": {
      "needs_background": "light"
     },
     "output_type": "display_data"
    }
   ],
   "source": [
    "import numpy as np\n",
    "import matplotlib.pyplot as plt\n",
    "import cv2 as cv\n",
    "\n",
    "\n",
    "img = create_canvas(height=400, width=600, bgColor=colors['LIGHT_GRAY'])\n",
    "pts = np.array([[300,0],[300,400]], np.int32)\n",
    "cv.polylines(img, [pts], True, colors['BLACK'], 1)\n",
    "pts = np.array([[0,200],[600,200]], np.int32)\n",
    "cv.polylines(img, [pts], True, colors['BLACK'], 1)\n",
    "\n",
    "#TRIANGLE\n",
    "pts = np.array([[50,150],[100,20],[150,150]], np.int32)\n",
    "pts = pts.reshape((-1, 1, 2))\n",
    "cv.polylines(img, [pts], True, colors['BLUE'], 5)\n",
    "cv.putText(img, 'triangle', (70, 120), cv.FONT_HERSHEY_SIMPLEX, 0.5, colors['BLACK'],2)\n",
    "\n",
    "#HEXAGON\n",
    "pts = np.array([[100,370],[50,320], [50,270],[100,220],[150,220],[200,270],[200,320],[150,370],[100,370],], np.int32)\n",
    "pts = pts.reshape((-1, 1, 2))\n",
    "cv.polylines(img, [pts], True, colors['BLUE'], 5)\n",
    "cv.putText(img, 'Hexagon', (60, 300), cv.FONT_HERSHEY_SIMPLEX, 1, colors['BLACK'],2)\n",
    "\n",
    "\n",
    "#DECAGON\n",
    "pts = np.array([[400,180],[370,170], [340,130],[340,90],[370,40],[400,20],[440,40],[470,90],[470,130],[440,170]], np.int32)\n",
    "pts = pts.reshape((-1, 1, 2))\n",
    "cv.polylines(img, [pts], True, colors['BLUE'], 5)\n",
    "cv.putText(img, 'Decagon', (350, 120), cv.FONT_HERSHEY_SIMPLEX, 0.8, colors['BLACK'],2)\n",
    "\n",
    "#7 point that doesnt meet\n",
    "pts = np.array([[320,370],[370,300], [390,350],[420,290],[460,360],[490,270],[530,370]], np.int32)\n",
    "pts = pts.reshape((-1, 1, 2))\n",
    "cv.polylines(img, [pts], False, colors['BLUE'], 5)\n",
    "cv.putText(img, '7 pO', (350, 120), cv.FONT_HERSHEY_SIMPLEX, 0.8, colors['BLACK'],2)\n",
    "\n",
    "show_in_matplotlib(img)\n",
    "\n"
   ]
  }
 ],
 "metadata": {
  "kernelspec": {
   "display_name": "Python 3",
   "language": "python",
   "name": "python3"
  },
  "language_info": {
   "codemirror_mode": {
    "name": "ipython",
    "version": 3
   },
   "file_extension": ".py",
   "mimetype": "text/x-python",
   "name": "python",
   "nbconvert_exporter": "python",
   "pygments_lexer": "ipython3",
   "version": "3.7.3"
  }
 },
 "nbformat": 4,
 "nbformat_minor": 2
}
